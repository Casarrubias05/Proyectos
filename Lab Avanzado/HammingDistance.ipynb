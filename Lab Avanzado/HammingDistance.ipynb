{
 "cells": [
  {
   "cell_type": "code",
   "execution_count": 60,
   "id": "0a95ab70-d039-43a5-91eb-7849e272d608",
   "metadata": {},
   "outputs": [],
   "source": [
    "word1 = \"variaciona\"\n",
    "word2 = \"diferencial\""
   ]
  },
  {
   "cell_type": "code",
   "execution_count": 56,
   "id": "fcfb8fcf-935a-4605-be74-e91855c0fb11",
   "metadata": {},
   "outputs": [],
   "source": [
    "def Hamming_Distance(word_1, word_2):\n",
    "\t\"\"\"Calculates the discrete distance between words 'word_1' and 'word_2'.\n",
    "\t Raises an error if the words are not the same length.\"\"\"\n",
    "\n",
    "\tdiscrete_distance = lambda letter_pair : int(letter_pair[0] != letter_pair[1])\n",
    "\n",
    "\tif len(word_1) != len(word_2): raise LookupError('Words are not same length')\n",
    "\n",
    "\tword_1, word_2 = word_1.lower(), word_2.lower()\n",
    "\tpairs = list(zip(word_1, word_2))\n",
    "\t#Pairs the corresponding letters between the two words.\n",
    "\n",
    "\tpairs_distance = map(discrete_distance, pairs)\n",
    "\t#Makes a list where each item is the distance between the corresponding letters.\n",
    "\n",
    "\treturn sum(pairs_distance)"
   ]
  },
  {
   "cell_type": "code",
   "execution_count": 61,
   "id": "03418546-2918-406d-9ae6-0f3d30fba790",
   "metadata": {},
   "outputs": [
    {
     "ename": "LookupError",
     "evalue": "Words are not same length",
     "output_type": "error",
     "traceback": [
      "\u001b[0;31m---------------------------------------------------------------------------\u001b[0m",
      "\u001b[0;31mLookupError\u001b[0m                               Traceback (most recent call last)",
      "Cell \u001b[0;32mIn[61], line 1\u001b[0m\n\u001b[0;32m----> 1\u001b[0m \u001b[43mHamming_Distance\u001b[49m\u001b[43m(\u001b[49m\u001b[43mword1\u001b[49m\u001b[43m,\u001b[49m\u001b[43m \u001b[49m\u001b[43mword2\u001b[49m\u001b[43m)\u001b[49m\n",
      "Cell \u001b[0;32mIn[56], line 7\u001b[0m, in \u001b[0;36mHamming_Distance\u001b[0;34m(word_1, word_2)\u001b[0m\n\u001b[1;32m      2\u001b[0m \u001b[38;5;250m\u001b[39m\u001b[38;5;124;03m\"\"\"Calculates the discrete distance between words 'word_1' and 'word_2'.\u001b[39;00m\n\u001b[1;32m      3\u001b[0m \u001b[38;5;124;03m Raises an error if the words are not the same length.\"\"\"\u001b[39;00m\n\u001b[1;32m      5\u001b[0m discrete_distance \u001b[38;5;241m=\u001b[39m \u001b[38;5;28;01mlambda\u001b[39;00m letter_pair : \u001b[38;5;28mint\u001b[39m(letter_pair[\u001b[38;5;241m0\u001b[39m] \u001b[38;5;241m!=\u001b[39m letter_pair[\u001b[38;5;241m1\u001b[39m])\n\u001b[0;32m----> 7\u001b[0m \u001b[38;5;28;01mif\u001b[39;00m \u001b[38;5;28mlen\u001b[39m(word_1) \u001b[38;5;241m!=\u001b[39m \u001b[38;5;28mlen\u001b[39m(word_2): \u001b[38;5;28;01mraise\u001b[39;00m \u001b[38;5;167;01mLookupError\u001b[39;00m(\u001b[38;5;124m'\u001b[39m\u001b[38;5;124mWords are not same length\u001b[39m\u001b[38;5;124m'\u001b[39m)\n\u001b[1;32m      9\u001b[0m word_1, word_2 \u001b[38;5;241m=\u001b[39m word_1\u001b[38;5;241m.\u001b[39mlower(), word_2\u001b[38;5;241m.\u001b[39mlower()\n\u001b[1;32m     10\u001b[0m pairs \u001b[38;5;241m=\u001b[39m \u001b[38;5;28mlist\u001b[39m(\u001b[38;5;28mzip\u001b[39m(word_1, word_2))\n",
      "\u001b[0;31mLookupError\u001b[0m: Words are not same length"
     ]
    }
   ],
   "source": [
    "Hamming_Distance(word1, word2)"
   ]
  }
 ],
 "metadata": {
  "kernelspec": {
   "display_name": "Python 3 (ipykernel)",
   "language": "python",
   "name": "python3"
  },
  "language_info": {
   "codemirror_mode": {
    "name": "ipython",
    "version": 3
   },
   "file_extension": ".py",
   "mimetype": "text/x-python",
   "name": "python",
   "nbconvert_exporter": "python",
   "pygments_lexer": "ipython3",
   "version": "3.12.4"
  }
 },
 "nbformat": 4,
 "nbformat_minor": 5
}
