{
 "cells": [
  {
   "cell_type": "code",
   "execution_count": 26,
   "id": "5f2b6057-c8a2-4ce1-b89c-363e79b16d10",
   "metadata": {},
   "outputs": [],
   "source": [
    "from sympy import exp\n",
    "from sympy.diffgeom.rn import R2\n",
    "from sympy.diffgeom import metric_to_Riemann_components, TensorProduct\n",
    "TP = TensorProduct"
   ]
  },
  {
   "cell_type": "code",
   "execution_count": 46,
   "id": "03ba8b32-d609-4e42-bd2b-71ac1ac04c16",
   "metadata": {},
   "outputs": [
    {
     "data": {
      "text/latex": [
       "$\\displaystyle \\left[\\begin{matrix}\\left[\\begin{matrix}0 & 0\\\\0 & 0\\end{matrix}\\right] & \\left[\\begin{matrix}0 & \\sin^{2}{\\left(\\mathbf{x} \\right)}\\\\- \\sin^{2}{\\left(\\mathbf{x} \\right)} & 0\\end{matrix}\\right]\\\\\\left[\\begin{matrix}0 & -1\\\\1 & 0\\end{matrix}\\right] & \\left[\\begin{matrix}0 & 0\\\\0 & 0\\end{matrix}\\right]\\end{matrix}\\right]$"
      ],
      "text/plain": [
       "[[[[0, 0], [0, 0]], [[0, sin(x)**2], [-sin(x)**2, 0]]], [[[0, -1], [1, 0]], [[0, 0], [0, 0]]]]"
      ]
     },
     "execution_count": 46,
     "metadata": {},
     "output_type": "execute_result"
    }
   ],
   "source": [
    "sphere_metric =  TP(R2.dx, R2.dx) + (sy.sin(R2.x))**2 * TP(R2.dy, R2.dy)\n",
    "metric_to_Riemann_components(sphere_metric)"
   ]
  }
 ],
 "metadata": {
  "kernelspec": {
   "display_name": "Python 3 (ipykernel)",
   "language": "python",
   "name": "python3"
  },
  "language_info": {
   "codemirror_mode": {
    "name": "ipython",
    "version": 3
   },
   "file_extension": ".py",
   "mimetype": "text/x-python",
   "name": "python",
   "nbconvert_exporter": "python",
   "pygments_lexer": "ipython3",
   "version": "3.12.4"
  }
 },
 "nbformat": 4,
 "nbformat_minor": 5
}
