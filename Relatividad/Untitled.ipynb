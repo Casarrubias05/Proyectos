{
 "cells": [
  {
   "cell_type": "code",
   "execution_count": 83,
   "id": "4db6adb9-3b8a-4f7c-9e9c-e317ce8a593a",
   "metadata": {},
   "outputs": [],
   "source": [
    "from scipy import constants\n",
    "import numpy as np\n",
    "\n",
    "import pint\n",
    "from pint import UnitRegistry\n",
    "ureg = UnitRegistry(auto_reduce_dimensions=True)\n",
    "ureg.formatter.default_format = '.4~e'\n",
    "\n",
    "Q_ = ureg.Quantity\n",
    "ureg.define(\"meter_time = 1*m/c\")\n",
    "c = ureg.c"
   ]
  },
  {
   "cell_type": "markdown",
   "id": "95986f36-4323-4dfd-8fe9-ca0121348a4c",
   "metadata": {},
   "source": [
    "# Ejercicio 1"
   ]
  },
  {
   "cell_type": "markdown",
   "id": "915b49d1-1bda-47f0-9b72-fb8d07850f09",
   "metadata": {},
   "source": [
    "## (a)"
   ]
  },
  {
   "cell_type": "code",
   "execution_count": 99,
   "id": "0c79d946-6cc0-4644-aa10-41e9fe1c56dd",
   "metadata": {},
   "outputs": [
    {
     "data": {
      "text/html": [
       "-0.05567897052045341 s"
      ],
      "text/latex": [
       "$-0.05567897052045341\\ \\mathrm{s}$"
      ],
      "text/plain": [
       "<Quantity(-0.0556789705, 'second')>"
      ]
     },
     "execution_count": 99,
     "metadata": {},
     "output_type": "execute_result"
    }
   ],
   "source": [
    "d = Q_(1e9, 'm')\n",
    "v = Q_(100*1e5, 'm/s')/c\n",
    "t = d/v\n",
    "t_ = t/np.sqrt(1-v**2)\n",
    "((t - t_)/c).to('s')"
   ]
  },
  {
   "cell_type": "code",
   "execution_count": 100,
   "id": "fe17483a-940e-4c27-af7d-ca3b6a13f224",
   "metadata": {},
   "outputs": [
    {
     "data": {
      "text/html": [
       "1.414239359140112 a"
      ],
      "text/latex": [
       "$1.414239359140112\\ \\mathrm{a}$"
      ],
      "text/plain": [
       "<Quantity(1.41423936, 'year')>"
      ]
     },
     "execution_count": 100,
     "metadata": {},
     "output_type": "execute_result"
    }
   ],
   "source": [
    "Q_(4.463e7, 's').to('year')"
   ]
  },
  {
   "cell_type": "code",
   "execution_count": 110,
   "id": "7d4f6bf3-8035-48bb-82f7-2260b62c7359",
   "metadata": {},
   "outputs": [
    {
     "data": {
      "text/html": [
       "1.4140304566451707 a"
      ],
      "text/latex": [
       "$1.4140304566451707\\ \\mathrm{a}$"
      ],
      "text/plain": [
       "<Quantity(1.41403046, 'year')>"
      ]
     },
     "execution_count": 110,
     "metadata": {},
     "output_type": "execute_result"
    }
   ],
   "source": [
    "masa_sol = Q_(1.989e30, 'kg')\n",
    "distancia_estrellas = Q_(1, 'au')\n",
    "G = Q_(constants.gravitational_constant, 'N*m**2/kg**2')\n",
    "periodo = 2*np.pi*np.sqrt(2*distancia_estrellas**3/(G*masa_sol))\n",
    "periodo.to('year')"
   ]
  }
 ],
 "metadata": {
  "kernelspec": {
   "display_name": "Python 3 (ipykernel)",
   "language": "python",
   "name": "python3"
  },
  "language_info": {
   "codemirror_mode": {
    "name": "ipython",
    "version": 3
   },
   "file_extension": ".py",
   "mimetype": "text/x-python",
   "name": "python",
   "nbconvert_exporter": "python",
   "pygments_lexer": "ipython3",
   "version": "3.12.4"
  }
 },
 "nbformat": 4,
 "nbformat_minor": 5
}
