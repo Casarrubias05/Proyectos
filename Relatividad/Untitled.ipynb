{
 "cells": [
  {
   "cell_type": "code",
   "execution_count": 5,
   "id": "5f2b6057-c8a2-4ce1-b89c-363e79b16d10",
   "metadata": {},
   "outputs": [],
   "source": [
    "import sympy as sy\n",
    "from sympy.abc import t, r, theta, phi"
   ]
  },
  {
   "cell_type": "code",
   "execution_count": 34,
   "id": "3172f8bb-2ef1-4a70-9e88-ac6cbb82df98",
   "metadata": {},
   "outputs": [],
   "source": [
    "from sympy.diffgeom.rn import R2\n",
    "from sympy.diffgeom import metric_to_Riemann_components, TensorProduct\n",
    "TP = TensorProduct"
   ]
  },
  {
   "cell_type": "code",
   "execution_count": 45,
   "id": "813b99a1-6aba-4de9-b38e-0233ec5daf09",
   "metadata": {},
   "outputs": [
    {
     "data": {
      "text/latex": [
       "$\\displaystyle \\sin^{2}{\\left(\\mathbf{x} \\right)} \\operatorname{d}y \\otimes \\operatorname{d}y + \\operatorname{d}x \\otimes \\operatorname{d}x$"
      ],
      "text/plain": [
       "sin(x)**2*TensorProduct(dy, dy) + TensorProduct(dx, dx)"
      ]
     },
     "execution_count": 45,
     "metadata": {},
     "output_type": "execute_result"
    }
   ],
   "source": [
    "metric = TP(R2.dx, R2.dx) + (sy.sin(R2.x))** 2 * TP(R2.dy, R2.dy)\n",
    "metric"
   ]
  },
  {
   "cell_type": "code",
   "execution_count": 46,
   "id": "3649af5e-9dc6-41ec-a927-d88ed5c80031",
   "metadata": {},
   "outputs": [
    {
     "data": {
      "text/latex": [
       "$\\displaystyle \\left[\\begin{matrix}1 & 0\\\\0 & \\sin^{2}{\\left(\\mathbf{x} \\right)}\\end{matrix}\\right]$"
      ],
      "text/plain": [
       "[[1, 0], [0, sin(x)**2]]"
      ]
     },
     "execution_count": 46,
     "metadata": {},
     "output_type": "execute_result"
    }
   ],
   "source": [
    "sy.diffgeom.metric_to_Ricci_components(metric)"
   ]
  },
  {
   "cell_type": "code",
   "execution_count": 14,
   "id": "63741eb2-8629-44ba-93f9-2ccdaffcf18d",
   "metadata": {},
   "outputs": [
    {
     "data": {
      "text/latex": [
       "$\\displaystyle 0.5 \\log{\\left(1 - \\frac{r_{s}}{r} \\right)}$"
      ],
      "text/plain": [
       "0.5*log(1 - r_s/r)"
      ]
     },
     "execution_count": 14,
     "metadata": {},
     "output_type": "execute_result"
    }
   ],
   "source": [
    "r_s = sy.symbols('r_s', positive=True)\n",
    "Phi = (1/2)*sy.ln(1 - r_s/r)\n",
    "Lambda = -Phi\n",
    "Phi"
   ]
  },
  {
   "cell_type": "code",
   "execution_count": 25,
   "id": "4dc31784-5dc9-4dbe-9822-4b7a6f3332c9",
   "metadata": {},
   "outputs": [
    {
     "data": {
      "text/latex": [
       "$\\displaystyle \\frac{1.0 r_{s}}{r^{2} \\left(\\frac{r - r_{s}}{r}\\right)^{1.0} \\left(r - r_{s}\\right)}$"
      ],
      "text/plain": [
       "1.0*r_s/(r**2*((r - r_s)/r)**1.0*(r - r_s))"
      ]
     },
     "execution_count": 25,
     "metadata": {},
     "output_type": "execute_result"
    }
   ],
   "source": [
    "R_0101 = sy.exp(-2*Phi)*(-Phi.diff(r, 2) + Phi.diff(r)*Lambda.diff(r) - (Phi.diff(r))**2)\n",
    "R_0101.simplify()"
   ]
  },
  {
   "cell_type": "code",
   "execution_count": 33,
   "id": "2e5b4ff8-499e-4bc1-98dd-9a56d920232b",
   "metadata": {},
   "outputs": [
    {
     "data": {
      "text/latex": [
       "$\\displaystyle - \\frac{0.5 r_{s} \\left(2 + \\frac{r_{s}}{r \\left(1 - \\frac{r_{s}}{r}\\right)}\\right)}{r^{3} \\left(1 - \\frac{r_{s}}{r}\\right)}$"
      ],
      "text/plain": [
       "-0.5*r_s*(2 + r_s/(r*(1 - r_s/r)))/(r**3*(1 - r_s/r))"
      ]
     },
     "execution_count": 33,
     "metadata": {},
     "output_type": "execute_result"
    }
   ],
   "source": [
    "Phi.diff(r,2)"
   ]
  },
  {
   "cell_type": "code",
   "execution_count": 1,
   "id": "561036c0-8223-4d38-903b-f29726763180",
   "metadata": {},
   "outputs": [],
   "source": [
    "import itertools"
   ]
  },
  {
   "cell_type": "code",
   "execution_count": 3,
   "id": "a1565a96-5b63-48fe-bc96-f638eb633ad1",
   "metadata": {},
   "outputs": [
    {
     "name": "stdout",
     "output_type": "stream",
     "text": [
      " 1 ('u', 'v', 'u', 'v')\n"
     ]
    }
   ],
   "source": [
    "unique_groups = []\n",
    "repeated_groups = []\n",
    "\n",
    "for group in itertools.product(['u', 'v'], repeat=4):\n",
    "\tif any((group[0]==group[1], group[2]==group[3])): continue\n",
    "\n",
    "\tpermutations = [\n",
    "\t\t(*(group[:2][::-1]), *(group[2:])),\n",
    "\t\t(*(group[:2]), *(group[2:][::-1])),\n",
    "\t\t(*(group[:2][::-1]), *(group[2:][::-1])),\n",
    "\t\t(*(group[2:]), *(group[:2]))\n",
    "\t]\n",
    "\tif len(set(group))==2:\n",
    "\t\tpermutations.pop(-1)\n",
    "\n",
    "\trepeated_groups.extend(permutations)\n",
    "\n",
    "\tif group in repeated_groups: continue\n",
    "\n",
    "\tunique_groups.append(group)\n",
    "\tprint('{:2} {}'.format(len(unique_groups), group))"
   ]
  },
  {
   "cell_type": "code",
   "execution_count": 429,
   "id": "859007b8-5262-4171-a823-68a22335a52f",
   "metadata": {},
   "outputs": [
    {
     "data": {
      "text/latex": [
       "$\\displaystyle \\Gamma^{\\sigma}_{\\phi \\phi} \\Gamma^{\\theta}_{\\sigma \\theta} - \\Gamma^{\\sigma}_{\\phi \\theta} \\Gamma^{\\theta}_{\\sigma \\phi} + \\Gamma^{\\theta}_{\\phi \\phi \\theta} - \\Gamma^{\\theta}_{\\phi \\theta \\phi}$"
      ],
      "text/plain": [
       "Gamma^sigma_phi_phi*Gamma^theta_sigma_theta - Gamma^sigma_phi_theta*Gamma^theta_sigma_phi + Gamma^theta_phi_phi_theta - Gamma^theta_phi_theta_phi"
      ]
     },
     "metadata": {},
     "output_type": "display_data"
    }
   ],
   "source": [
    "def Riemann(alpha, beta, mu, nu):\n",
    "\tsigma = sy.Symbol('sigma')\n",
    "\tsymbols = [\n",
    "\t\tsy.symbols(\"Gamma^{}_{}_{}_{}\".format(alpha, beta, nu, mu))\n",
    "\t\t,sy.symbols(\"Gamma^{}_{}_{}_{}\".format(alpha, beta, mu, nu))\n",
    "\t\t,sy.symbols(\"Gamma^{}_{}_{}\".format(alpha, sigma, mu))\n",
    "\t\t,sy.symbols(\"Gamma^{}_{}_{}\".format(sigma, beta, nu))\n",
    "\t\t,sy.symbols(\"Gamma^{}_{}_{}\".format(alpha, sigma, nu))\n",
    "\t\t,sy.symbols(\"Gamma^{}_{}_{}\".format(sigma, beta, mu))\n",
    "\t]\n",
    "\tdisplay(symbols[0] - symbols[1] + symbols[2]*symbols[3] - symbols[4]*symbols[5])\n",
    "\n",
    "Riemann(theta,phi, theta,phi)"
   ]
  }
 ],
 "metadata": {
  "kernelspec": {
   "display_name": "Python 3 (ipykernel)",
   "language": "python",
   "name": "python3"
  },
  "language_info": {
   "codemirror_mode": {
    "name": "ipython",
    "version": 3
   },
   "file_extension": ".py",
   "mimetype": "text/x-python",
   "name": "python",
   "nbconvert_exporter": "python",
   "pygments_lexer": "ipython3",
   "version": "3.12.4"
  }
 },
 "nbformat": 4,
 "nbformat_minor": 5
}
