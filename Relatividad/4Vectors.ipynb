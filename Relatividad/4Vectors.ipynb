{
 "cells": [
  {
   "cell_type": "code",
   "execution_count": 1,
   "id": "4db6adb9-3b8a-4f7c-9e9c-e317ce8a593a",
   "metadata": {},
   "outputs": [],
   "source": [
    "from scipy import constants\n",
    "import numpy as np\n",
    "\n",
    "import itertools\n",
    "\n",
    "import sympy as sy\n",
    "\n",
    "#import pint\n",
    "#from pint import UnitRegistry\n",
    "#ureg = UnitRegistry(auto_reduce_dimensions=True)\n",
    "#ureg.formatter.default_format = '.4~e'\n",
    "#\n",
    "#Q_ = ureg.Quantity\n",
    "#ureg.define(\"meter_time = 1*m/c\")\n",
    "#c = ureg.c"
   ]
  },
  {
   "cell_type": "code",
   "execution_count": 3,
   "id": "b89c1270-69a9-4429-b283-281a99b472ca",
   "metadata": {},
   "outputs": [],
   "source": [
    "def SymLorentzLambda(v = sy.Symbol('v', real=True), all_v=False,axis=1):\n",
    "\tdef change_axis(new_axis):\n",
    "\t\tdef change_cols(matrix, new_col):\n",
    "\t\t\tmatrix_cols = [matrix.col(col) for col in range(matrix.cols)]\n",
    "\t\t\tmatrix_cols[1], matrix_cols[new_col] = matrix_cols[new_col], matrix_cols[1]\n",
    "\t\t\treturn sy.Matrix([matrix_cols])\n",
    "\n",
    "\t\treturn change_cols(change_cols(LorentzLambda, axis).T, axis)\n",
    "\n",
    "\tif len(v.name) > 1:\n",
    "\t\tgamma_name = 'gamma_'+v.name[-1]\n",
    "\telse: gamma_name = 'gamma'\n",
    "\tgamma = sy.Symbol(gamma_name)#1/sy.sqrt(1 - v**2)\n",
    "\tblock_1 = sy.Matrix([\n",
    "\t\t[gamma, -v*gamma],\n",
    "\t\t[-v*gamma, gamma]\n",
    "\t])\n",
    "\n",
    "\trow_1 = block_1.row_join(sy.zeros(2,2))\n",
    "\trow_2 = sy.zeros(2,2).row_join(sy.diag(1,1))\n",
    "\n",
    "\tLorentzLambda = row_1.col_join(row_2)\n",
    "\tif axis != 1: LorentzLambda = change_axis(axis)\n",
    "\tif all_v: LorentzLambda=LorentzLambda.subs(gamma, 1/sy.sqrt(1-v**2))\n",
    "\n",
    "\treturn LorentzLambda"
   ]
  },
  {
   "cell_type": "code",
   "execution_count": 4,
   "id": "320e45b6-79eb-447d-aaf4-7680c02fdf03",
   "metadata": {},
   "outputs": [],
   "source": [
    "def LorentzLambda(v):\n",
    "\tassert abs(v) < 1, \"Speed greater than 1 is invalid.\"\n",
    "\n",
    "\tgamma = 1/np.sqrt(1 - v**2)\n",
    "\tblock_1 = np.array([\n",
    "\t\t[gamma, -v*gamma],\n",
    "\t\t[-v*gamma, gamma]\n",
    "\t])\n",
    "\n",
    "\trow_1 = np.hstack((block_1, np.zeros((2,2))))\n",
    "\trow_2 = np.hstack((np.zeros((2,2)), np.eye(2)))\n",
    "\n",
    "\treturn np.vstack((row_1, row_2))"
   ]
  },
  {
   "cell_type": "code",
   "execution_count": 15,
   "id": "0d9f8f6a-645e-4cf3-9350-247c53ec7d84",
   "metadata": {},
   "outputs": [],
   "source": [
    "class FourVector():\n",
    "\tdef __init__(self, components=[0,0,0,0]):\n",
    "\t\t\"\"\"If less than 4 components are provided the array is padded with the necessary zeros.\"\"\"\n",
    "\t\tself.components = np.pad(components, (0, 4-len(components)), 'constant', constant_values=0)\n",
    "\n",
    "\tdef __str__(self):\n",
    "\t\treturn 'Components: {}, \\nNorm: {}\\nKind: {}'.format(\n",
    "\t\t\t\tstr(list(self.components)), self.norm, self.kind\n",
    "\t\t\t)\n",
    "\n",
    "\n",
    "\tdef __repr__(self):\n",
    "\t\treturn '4Vector('+str(list(self.components))+')'\n",
    "\n",
    "\tdef __rmul__(self, other):\n",
    "\t\tassert isinstance(other, (int, float)), \\\n",
    "\t\t\"unsupported operand type(s) for *: {} and 'FourVector'\".format(str(type(other)).strip('<class >'))\n",
    "\t\treturn FourVector(other*self.components)\n",
    "\n",
    "\tdef __neg__(self):\n",
    "\t\treturn FourVector(-self.components)\n",
    "\n",
    "\tdef __add__(self, other):\n",
    "\t\treturn FourVector(self.components + other.components)\n",
    "\n",
    "\tdef __sub__(self, other):\n",
    "\t\treturn self + (-other)\n",
    "\n",
    "\tdef __mul__(self, other):\n",
    "\t#\treturn FourVector(other*self.components)\n",
    "\t\tassert isinstance(other, FourVector), \\\n",
    "\t\t\"unsupported operand type(s) for *: {} and 'FourVector'\".format(str(type(other)).strip('<class >'))\n",
    "\t\treturn (np.array([-1, 1, 1, 1]) * self.components * other.components).sum()\n",
    "\n",
    "\tdef __getitem__(self, key):\n",
    "\t\treturn self.components[key]\n",
    "\n",
    "\n",
    "\tdef transform(self, xVelocity):\n",
    "\t\treturn FourVector(LorentzLambda(xVelocity) @ self.components)\n",
    "\n",
    "\t@property\n",
    "\tdef norm(self):\n",
    "\t\treturn self*self\n",
    "\n",
    "\t@property\n",
    "\tdef kind(self):\n",
    "\t\tnorm = self.norm\n",
    "\t\tif norm == 0:\n",
    "\t\t\treturn 'Null Vector'\n",
    "\t\telif norm < 0:\n",
    "\t\t\treturn 'Time-like Vector'\n",
    "\t\telse:\n",
    "\t\t\treturn 'Space-like Vector'"
   ]
  },
  {
   "cell_type": "code",
   "execution_count": 30,
   "id": "31e5ca54-88f1-4b1c-994d-60bd66d65a41",
   "metadata": {},
   "outputs": [],
   "source": [
    "class LorentzTransform():\n",
    "\tdef SymLorentzLambda(v = sy.Symbol('v', real=True), axis=1):\n",
    "\t\tdef change_axis(new_axis):\n",
    "\t\t\tdef change_cols(matrix, new_col):\n",
    "\t\t\t\tmatrix_cols = [matrix.col(col) for col in range(matrix.cols)]\n",
    "\t\t\t\tmatrix_cols[1], matrix_cols[new_col] = matrix_cols[new_col], matrix_cols[1]\n",
    "\t\t\t\treturn sy.Matrix([matrix_cols])\n",
    "\n",
    "\t\t\treturn change_cols(change_cols(LorentzLambda, axis).T, axis)\n",
    "\n",
    "\t\tgamma = sy.Symbol('gamma_'+v.name[-1])#1/sy.sqrt(1 - v**2)\n",
    "\t\tblock_1 = sy.Matrix([\n",
    "\t\t\t[gamma, -v*gamma],\n",
    "\t\t\t[-v*gamma, gamma]\n",
    "\t\t])\n",
    "\n",
    "\t\trow_1 = block_1.row_join(sy.zeros(2,2))\n",
    "\t\trow_2 = sy.zeros(2,2).row_join(sy.diag(1,1))\n",
    "\n",
    "\t\tLorentzLambda = row_1.col_join(row_2)\n",
    "\t\tif axis != 1: LorentzLambda = change_axis(axis)\n",
    "\t\t#if all_v: LorentzLambda=LorentzLambda.subs(gamma, 1/sy.sqrt(1-v**2))\n",
    "\n",
    "\t\treturn LorentzLambda\n",
    "\n",
    "\tdef __init__(self, v = sy.Symbol('v', real=True), axis=1):\n",
    "\t\tself.gamma = 1/sy.sqrt(1-v**2)\n",
    "\t\tself.matrix = LorentzTransform.SymLorentzLambda(v, axis)"
   ]
  },
  {
   "cell_type": "code",
   "execution_count": 16,
   "id": "e1d21d2a-cf08-4881-826c-c5354c111438",
   "metadata": {},
   "outputs": [
    {
     "data": {
      "text/plain": [
       "4Vector([np.int64(3), np.int64(-1), np.int64(-5), np.int64(-1)])"
      ]
     },
     "execution_count": 16,
     "metadata": {},
     "output_type": "execute_result"
    }
   ],
   "source": [
    "FourVector([1,1,1,1]) - 2*FourVector([-1,1,3,1])"
   ]
  },
  {
   "cell_type": "code",
   "execution_count": 17,
   "id": "7e66986c-4d25-4949-a12e-7c85ddf968d4",
   "metadata": {},
   "outputs": [
    {
     "data": {
      "text/plain": [
       "np.int64(0)"
      ]
     },
     "execution_count": 17,
     "metadata": {},
     "output_type": "execute_result"
    }
   ],
   "source": [
    "FourVector().norm"
   ]
  },
  {
   "cell_type": "code",
   "execution_count": 18,
   "id": "aa20fd56-5430-4265-b720-a2a1d51fc8db",
   "metadata": {},
   "outputs": [
    {
     "name": "stdout",
     "output_type": "stream",
     "text": [
      "-1\n",
      "1\n",
      "3\n",
      "1\n"
     ]
    }
   ],
   "source": [
    "for component in FourVector([-1,1,3,1]):\n",
    "\tprint(component)"
   ]
  },
  {
   "cell_type": "code",
   "execution_count": 16,
   "id": "3e4c4ea2-9b82-4030-b838-19100ec23587",
   "metadata": {},
   "outputs": [
    {
     "data": {
      "text/plain": [
       "array([[ 1.15470054, -0.57735027,  0.        ,  0.        ],\n",
       "       [-0.57735027,  1.15470054,  0.        ,  0.        ],\n",
       "       [ 0.        ,  0.        ,  1.        ,  0.        ],\n",
       "       [ 0.        ,  0.        ,  0.        ,  1.        ]])"
      ]
     },
     "execution_count": 16,
     "metadata": {},
     "output_type": "execute_result"
    }
   ],
   "source": [
    "LorentzLambda(.5)"
   ]
  },
  {
   "cell_type": "code",
   "execution_count": 22,
   "id": "6a705c8f-23bf-45f9-9899-b505f7634a85",
   "metadata": {},
   "outputs": [
    {
     "name": "stdout",
     "output_type": "stream",
     "text": [
      "Components: [np.float64(-0.5), np.float64(0.5), np.float64(0.0), np.float64(0.0)], \n",
      "Norm: 0.0\n",
      "Kind: Null Vector\n"
     ]
    }
   ],
   "source": [
    "A = FourVector(np.array([-1/2, 1/2]))\n",
    "print(A)"
   ]
  },
  {
   "cell_type": "code",
   "execution_count": 24,
   "id": "91e3b913-4b78-42c0-9793-a9a555c05e11",
   "metadata": {},
   "outputs": [
    {
     "data": {
      "text/plain": [
       "np.int64(0)"
      ]
     },
     "execution_count": 24,
     "metadata": {},
     "output_type": "execute_result"
    }
   ],
   "source": [
    "FourVector([1,1]) * FourVector([1, 1])"
   ]
  },
  {
   "cell_type": "code",
   "execution_count": 19,
   "id": "c8cacfd7-4ce8-4591-9c69-0dcaec85f4b5",
   "metadata": {},
   "outputs": [
    {
     "data": {
      "text/plain": [
       "{'A': 4Vector([5.0, 1.0, -1.0, 0.0]),\n",
       " 'B': 4Vector([-2.0, 3.0, 1.0, 6.0]),\n",
       " 'C': 4Vector([2.0, -2.0, 0.0, 0.0])}"
      ]
     },
     "execution_count": 19,
     "metadata": {},
     "output_type": "execute_result"
    }
   ],
   "source": [
    "Vectors = {\n",
    "\t'A': FourVector([5, 1, -1, 0]),\n",
    "\t'B': FourVector([-2, 3, 1, 6]),\n",
    "\t'C': FourVector([2, -2, 0, 0])\n",
    "}\n",
    "#list(Vectors.keys())\n",
    "Vectors_ = dict(\n",
    "\tzip([name + '_' for name in Vectors.keys()],\n",
    "\t\t[vector.transform(.6) for vector in Vectors.values()])\n",
    ")\n",
    "Vectors"
   ]
  },
  {
   "cell_type": "code",
   "execution_count": 20,
   "id": "8f470b99-857f-4ff3-ab44-b39defc75301",
   "metadata": {},
   "outputs": [
    {
     "name": "stdout",
     "output_type": "stream",
     "text": [
      "g(A, A) = -23.0\n",
      "g(A, B) = 12.0\n",
      "g(A, C) = -12.0\n",
      "g(B, B) = 42.0\n",
      "g(B, C) = -2.0\n",
      "g(C, C) = 0.0\n"
     ]
    }
   ],
   "source": [
    "for vector_prod in itertools.combinations_with_replacement(Vectors.keys(), r=2):\n",
    "\tfirst_vector, second_vector = vector_prod\n",
    "\tprint('g({}, {}) = {}'.format(*vector_prod, Vectors[first_vector] * Vectors[second_vector]))"
   ]
  },
  {
   "cell_type": "code",
   "execution_count": 21,
   "id": "3e8d97a1-a026-4af2-a135-b30e809debd1",
   "metadata": {},
   "outputs": [
    {
     "name": "stdout",
     "output_type": "stream",
     "text": [
      "g(A_, A_) = -23.0\n",
      "g(A_, B_) = 12.0\n",
      "g(A_, C_) = -12.0\n",
      "g(B_, B_) = 42.0\n",
      "g(B_, C_) = -2.0\n",
      "g(C_, C_) = 0.0\n"
     ]
    }
   ],
   "source": [
    "for vector_prod in itertools.combinations_with_replacement(Vectors_.keys(), r=2):\n",
    "\tfirst_vector, second_vector = vector_prod\n",
    "\tprint('g({}, {}) = {}'.format(*vector_prod, Vectors_[first_vector] * Vectors_[second_vector]))"
   ]
  },
  {
   "cell_type": "code",
   "execution_count": 22,
   "id": "92dfa3ce-a767-4290-a8e3-8a095dbc9633",
   "metadata": {},
   "outputs": [
    {
     "name": "stdout",
     "output_type": "stream",
     "text": [
      "A is a Time-like Vector\n",
      "B is a Space-like Vector\n",
      "C is a Null Vector\n"
     ]
    }
   ],
   "source": [
    "for name, vector in Vectors.items():\n",
    "\tprint('{} is a {}'.format(name, vector.kind))"
   ]
  },
  {
   "cell_type": "code",
   "execution_count": 86,
   "id": "b979edb9-aec5-42b8-a32e-2d37c1c29652",
   "metadata": {
    "scrolled": true
   },
   "outputs": [
    {
     "data": {
      "text/latex": [
       "$\\displaystyle \\left[\\begin{matrix}\\gamma_{1} \\gamma_{2} \\gamma_{3} & - \\gamma_{1} \\gamma_{2} \\gamma_{3} v^{1} & - \\gamma_{2} \\gamma_{3} v^{2} & - \\gamma_{3} v^{3}\\\\- \\gamma_{1} v^{1} & \\gamma_{1} & 0 & 0\\\\- \\gamma_{1} \\gamma_{2} v^{2} & \\gamma_{1} \\gamma_{2} v^{1} v^{2} & \\gamma_{2} & 0\\\\- \\gamma_{1} \\gamma_{2} \\gamma_{3} v^{3} & \\gamma_{1} \\gamma_{2} \\gamma_{3} v^{1} v^{3} & \\gamma_{2} \\gamma_{3} v^{2} v^{3} & \\gamma_{3}\\end{matrix}\\right]$"
      ],
      "text/plain": [
       "Matrix([\n",
       "[     gamma_1*gamma_2*gamma_3,    -gamma_1*gamma_2*gamma_3*v^1,    -gamma_2*gamma_3*v^2, -gamma_3*v^3],\n",
       "[                -gamma_1*v^1,                         gamma_1,                       0,            0],\n",
       "[        -gamma_1*gamma_2*v^2,         gamma_1*gamma_2*v^1*v^2,                 gamma_2,            0],\n",
       "[-gamma_1*gamma_2*gamma_3*v^3, gamma_1*gamma_2*gamma_3*v^1*v^3, gamma_2*gamma_3*v^2*v^3,      gamma_3]])"
      ]
     },
     "execution_count": 86,
     "metadata": {},
     "output_type": "execute_result"
    }
   ],
   "source": [
    "v_x = sy.Symbol('v^1', real=True)\n",
    "v_y = sy.Symbol('v^2', real=True)\n",
    "v_z = sy.Symbol('v^3', real=True)\n",
    "gamma_v = sy.Symbol('gamma_v', positive=True)\n",
    "gammas = lambda v: 1/sy.sqrt(1 - v**2)\n",
    "gamma_x, gamma_y, gamma_z = [gammas(v) for v in [v_x, v_y, v_z]]\n",
    "compoundTrans = (\n",
    "\tSymLorentzLambda(v_z, axis=3) @ SymLorentzLambda(v_y, axis=2) @ SymLorentzLambda(v_x)\n",
    ")\n",
    "#U = sy.Matrix([gamma_x*gamma_y*gamma_z, gamma_x*gamma_y*gamma_z*v_x, gamma_y*gamma_z*v_y, gamma_z*v_z])\n",
    "compoundTrans#*sy.Matrix([1, v_x, v_y, v_z])"
   ]
  },
  {
   "cell_type": "code",
   "execution_count": 24,
   "id": "325a2f88-7908-45b4-a2d1-3d0e86ec8e3c",
   "metadata": {},
   "outputs": [
    {
     "data": {
      "text/latex": [
       "$\\displaystyle \\left[\\begin{matrix}- \\gamma_{2} \\left(v^{2}\\right)^{2} + \\gamma_{2}\\\\0\\\\0\\\\v^{3}\\end{matrix}\\right]$"
      ],
      "text/plain": [
       "Matrix([\n",
       "[-gamma_2*v^2**2 + gamma_2],\n",
       "[                        0],\n",
       "[                        0],\n",
       "[                      v^3]])"
      ]
     },
     "execution_count": 24,
     "metadata": {},
     "output_type": "execute_result"
    }
   ],
   "source": [
    "SymLorentzLambda(v_y, axis=2)*sy.Matrix([1, 0, v_y, v_z])"
   ]
  },
  {
   "cell_type": "code",
   "execution_count": 25,
   "id": "0703f47c-800a-41ab-a161-87a8ad1b87b6",
   "metadata": {},
   "outputs": [
    {
     "data": {
      "text/latex": [
       "$\\displaystyle \\left[\\begin{matrix}150.5 \\gamma_{1} \\gamma_{2} \\gamma_{3}\\\\149.0 \\gamma_{1}\\\\- 86.8912155130387 \\gamma_{1} \\gamma_{2}\\\\- 106.419570568575 \\gamma_{1} \\gamma_{2} \\gamma_{3}\\end{matrix}\\right]$"
      ],
      "text/plain": [
       "Matrix([\n",
       "[            150.5*gamma_1*gamma_2*gamma_3],\n",
       "[                            149.0*gamma_1],\n",
       "[        -86.8912155130387*gamma_1*gamma_2],\n",
       "[-106.419570568575*gamma_1*gamma_2*gamma_3]])"
      ]
     },
     "execution_count": 25,
     "metadata": {},
     "output_type": "execute_result"
    }
   ],
   "source": [
    "P = sy.Matrix([300, 299, 0, 0])\n",
    "sy.simplify(compoundTrans.subs([(v_x, 1/2), (v_y, 1/np.sqrt(3)), (v_z, 1/np.sqrt(2))]) @ P)"
   ]
  },
  {
   "cell_type": "code",
   "execution_count": 26,
   "id": "f1317a7e-1d7f-4320-b06f-b21365f51e18",
   "metadata": {},
   "outputs": [
    {
     "data": {
      "text/latex": [
       "$\\displaystyle \\left[\\begin{matrix}1.15470053837925 \\sqrt{3} & - 0.577350269189626 \\sqrt{3} & -1 & -1\\\\-0.577350269189626 & 1.15470053837925 & 0 & 0\\\\- 0.577350269189626 \\sqrt{2} & 0.288675134594813 \\sqrt{2} & \\frac{\\sqrt{6}}{2} & 0\\\\- 0.577350269189626 \\sqrt{6} & 0.288675134594813 \\sqrt{6} & \\frac{\\sqrt{2}}{2} & \\sqrt{2}\\end{matrix}\\right]$"
      ],
      "text/plain": [
       "Matrix([\n",
       "[  1.15470053837925*sqrt(3), -0.577350269189626*sqrt(3),        -1,      -1],\n",
       "[        -0.577350269189626,           1.15470053837925,         0,       0],\n",
       "[-0.577350269189626*sqrt(2),  0.288675134594813*sqrt(2), sqrt(6)/2,       0],\n",
       "[-0.577350269189626*sqrt(6),  0.288675134594813*sqrt(6), sqrt(2)/2, sqrt(2)]])"
      ]
     },
     "execution_count": 26,
     "metadata": {},
     "output_type": "execute_result"
    }
   ],
   "source": [
    "compoundTrans = SymLorentzLambda(v_z, axis=3, all_v=True) @ SymLorentzLambda(v_y, axis=2, all_v=True) @ SymLorentzLambda(v_x, all_v=True)\n",
    "sy.simplify(compoundTrans.subs([(v_x, 1/2), (v_y, 1/sy.sqrt(3)), (v_z, 1/sy.sqrt(2))]))"
   ]
  },
  {
   "cell_type": "code",
   "execution_count": 53,
   "id": "4334b6d3-7990-4b86-8019-c52dd76bf0ba",
   "metadata": {},
   "outputs": [],
   "source": [
    "E = sy.symbols('E^0:4')\n",
    "B = sy.symbols('B^0:4')"
   ]
  },
  {
   "cell_type": "code",
   "execution_count": 54,
   "id": "cee10675-a8c3-44ac-bdf5-f45b0994c62f",
   "metadata": {},
   "outputs": [
    {
     "data": {
      "text/latex": [
       "$\\displaystyle \\left[\\begin{matrix}0 & E^{1} & E^{2} & E^{3}\\\\- E^{1} & 0 & B^{3} & - B^{2}\\\\- E^{2} & - B^{3} & 0 & B^{1}\\\\- E^{3} & B^{2} & - B^{1} & 0\\end{matrix}\\right]$"
      ],
      "text/plain": [
       "Matrix([\n",
       "[   0,  E^1,  E^2,  E^3],\n",
       "[-E^1,    0,  B^3, -B^2],\n",
       "[-E^2, -B^3,    0,  B^1],\n",
       "[-E^3,  B^2, -B^1,    0]])"
      ]
     },
     "execution_count": 54,
     "metadata": {},
     "output_type": "execute_result"
    }
   ],
   "source": [
    "F = sy.Matrix([\n",
    "\t[0, E[1], E[2], E[3]],\n",
    "\t[-E[1], 0, B[3], -B[2]],\n",
    "\t[-E[2], -B[3], 0, B[1]],\n",
    "\t[-E[3], B[2], -B[1], 0]\n",
    "])\n",
    "F"
   ]
  },
  {
   "cell_type": "code",
   "execution_count": 88,
   "id": "4240c704-5a14-46db-aae3-b4cf0bc2f03d",
   "metadata": {},
   "outputs": [
    {
     "data": {
      "text/latex": [
       "$\\displaystyle \\left[\\begin{matrix}0 & E^{1} \\gamma^{2} \\cdot \\left(1 - v^{2}\\right) & \\gamma \\left(- B^{3} v + E^{2}\\right) & \\gamma \\left(B^{2} v + E^{3}\\right)\\\\E^{1} \\gamma^{2} \\left(v^{2} - 1\\right) & 0 & \\gamma \\left(B^{3} - E^{2} v\\right) & \\gamma \\left(- B^{2} - E^{3} v\\right)\\\\\\gamma \\left(B^{3} v - E^{2}\\right) & \\gamma \\left(- B^{3} + E^{2} v\\right) & 0 & B^{1}\\\\\\gamma \\left(- B^{2} v - E^{3}\\right) & \\gamma \\left(B^{2} + E^{3} v\\right) & - B^{1} & 0\\end{matrix}\\right]$"
      ],
      "text/plain": [
       "Matrix([\n",
       "[                      0, E^1*gamma**2*(1 - v**2), gamma*(-B^3*v + E^2),  gamma*(B^2*v + E^3)],\n",
       "[E^1*gamma**2*(v**2 - 1),                       0,  gamma*(B^3 - E^2*v), gamma*(-B^2 - E^3*v)],\n",
       "[    gamma*(B^3*v - E^2),    gamma*(-B^3 + E^2*v),                    0,                  B^1],\n",
       "[   gamma*(-B^2*v - E^3),     gamma*(B^2 + E^3*v),                 -B^1,                    0]])"
      ]
     },
     "execution_count": 88,
     "metadata": {},
     "output_type": "execute_result"
    }
   ],
   "source": [
    "v = sy.symbols('v', real=True)\n",
    "F_ = SymLorentzLambda(v) @ F @ SymLorentzLambda(v)\n",
    "sy.simplify(F_)"
   ]
  },
  {
   "cell_type": "code",
   "execution_count": 29,
   "id": "adaa4e25-ac1f-4e3c-bf5c-c4381bedfcec",
   "metadata": {},
   "outputs": [
    {
     "data": {
      "text/latex": [
       "$\\displaystyle \\left[\\begin{matrix}0 & 1.0 & 0 & 0\\\\1.0 & 0 & 0 & 0\\\\0 & 0 & 1 & 0\\\\0 & 0 & 0 & 1\\end{matrix}\\right]$"
      ],
      "text/plain": [
       "Matrix([\n",
       "[  0, 1.0, 0, 0],\n",
       "[1.0,   0, 0, 0],\n",
       "[  0,   0, 1, 0],\n",
       "[  0,   0, 0, 1]])"
      ]
     },
     "execution_count": 29,
     "metadata": {},
     "output_type": "execute_result"
    }
   ],
   "source": [
    "eta = sy.diag(-1,1,1,1)\n",
    "Lambda = sy.Matrix([\n",
    "\t[1, -1/2, 0, 0],\n",
    "\t[1, 1/2, 0, 0],\n",
    "\t[0, 0, 1, 0],\n",
    "\t[0, 0, 0, 1]\n",
    "])\n",
    "Lambda.T * eta * Lambda"
   ]
  }
 ],
 "metadata": {
  "kernelspec": {
   "display_name": "Python 3 (ipykernel)",
   "language": "python",
   "name": "python3"
  },
  "language_info": {
   "codemirror_mode": {
    "name": "ipython",
    "version": 3
   },
   "file_extension": ".py",
   "mimetype": "text/x-python",
   "name": "python",
   "nbconvert_exporter": "python",
   "pygments_lexer": "ipython3",
   "version": "3.12.4"
  }
 },
 "nbformat": 4,
 "nbformat_minor": 5
}
