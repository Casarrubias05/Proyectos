{
 "cells": [
  {
   "cell_type": "code",
   "execution_count": 1,
   "id": "129c0657-c536-4a26-9618-facec429840c",
   "metadata": {},
   "outputs": [],
   "source": [
    "import numpy as np\n",
    "\n",
    "import matplotlib as mpl\n",
    "import matplotlib.pyplot as plt\n",
    "from matplotlib.legend_handler import HandlerLineCollection, HandlerTuple\n",
    "\n",
    "import pandas as pd\n",
    "\n",
    "import scipy as sp\n",
    "#%matplotlib widget"
   ]
  },
  {
   "cell_type": "code",
   "execution_count": 2,
   "id": "b9f8d9fc-99f1-407e-99c1-a4ce94ea3a91",
   "metadata": {},
   "outputs": [
    {
     "data": {
      "text/html": [
       "<div>\n",
       "<style scoped>\n",
       "    .dataframe tbody tr th:only-of-type {\n",
       "        vertical-align: middle;\n",
       "    }\n",
       "\n",
       "    .dataframe tbody tr th {\n",
       "        vertical-align: top;\n",
       "    }\n",
       "\n",
       "    .dataframe thead th {\n",
       "        text-align: right;\n",
       "    }\n",
       "</style>\n",
       "<table border=\"1\" class=\"dataframe\">\n",
       "  <thead>\n",
       "    <tr style=\"text-align: right;\">\n",
       "      <th></th>\n",
       "      <th>Temperatura</th>\n",
       "      <th>Vinagre</th>\n",
       "      <th>Alcohol</th>\n",
       "      <th>Agua</th>\n",
       "    </tr>\n",
       "  </thead>\n",
       "  <tbody>\n",
       "    <tr>\n",
       "      <th>0</th>\n",
       "      <td>17.0</td>\n",
       "      <td>1.3375</td>\n",
       "      <td>1.3665</td>\n",
       "      <td>1.3345</td>\n",
       "    </tr>\n",
       "    <tr>\n",
       "      <th>1</th>\n",
       "      <td>17.5</td>\n",
       "      <td>1.3375</td>\n",
       "      <td>1.3660</td>\n",
       "      <td>1.3340</td>\n",
       "    </tr>\n",
       "    <tr>\n",
       "      <th>2</th>\n",
       "      <td>18.0</td>\n",
       "      <td>1.3375</td>\n",
       "      <td>1.3670</td>\n",
       "      <td>1.3345</td>\n",
       "    </tr>\n",
       "    <tr>\n",
       "      <th>3</th>\n",
       "      <td>18.5</td>\n",
       "      <td>1.3375</td>\n",
       "      <td>1.3650</td>\n",
       "      <td>1.3335</td>\n",
       "    </tr>\n",
       "    <tr>\n",
       "      <th>4</th>\n",
       "      <td>19.0</td>\n",
       "      <td>1.3370</td>\n",
       "      <td>1.3655</td>\n",
       "      <td>1.3335</td>\n",
       "    </tr>\n",
       "    <tr>\n",
       "      <th>5</th>\n",
       "      <td>19.5</td>\n",
       "      <td>1.3375</td>\n",
       "      <td>1.3645</td>\n",
       "      <td>1.3330</td>\n",
       "    </tr>\n",
       "    <tr>\n",
       "      <th>6</th>\n",
       "      <td>20.0</td>\n",
       "      <td>1.3375</td>\n",
       "      <td>1.3645</td>\n",
       "      <td>1.3330</td>\n",
       "    </tr>\n",
       "    <tr>\n",
       "      <th>7</th>\n",
       "      <td>20.5</td>\n",
       "      <td>1.3375</td>\n",
       "      <td>1.3640</td>\n",
       "      <td>1.3330</td>\n",
       "    </tr>\n",
       "    <tr>\n",
       "      <th>8</th>\n",
       "      <td>21.0</td>\n",
       "      <td>1.3375</td>\n",
       "      <td>1.3640</td>\n",
       "      <td>1.3330</td>\n",
       "    </tr>\n",
       "    <tr>\n",
       "      <th>9</th>\n",
       "      <td>21.5</td>\n",
       "      <td>1.3370</td>\n",
       "      <td>1.3635</td>\n",
       "      <td>1.3330</td>\n",
       "    </tr>\n",
       "    <tr>\n",
       "      <th>10</th>\n",
       "      <td>22.0</td>\n",
       "      <td>1.3370</td>\n",
       "      <td>1.3635</td>\n",
       "      <td>1.3330</td>\n",
       "    </tr>\n",
       "    <tr>\n",
       "      <th>11</th>\n",
       "      <td>22.5</td>\n",
       "      <td>1.3370</td>\n",
       "      <td>1.3635</td>\n",
       "      <td>1.3330</td>\n",
       "    </tr>\n",
       "    <tr>\n",
       "      <th>12</th>\n",
       "      <td>23.0</td>\n",
       "      <td>1.3370</td>\n",
       "      <td>1.3630</td>\n",
       "      <td>1.3330</td>\n",
       "    </tr>\n",
       "    <tr>\n",
       "      <th>13</th>\n",
       "      <td>23.5</td>\n",
       "      <td>1.3370</td>\n",
       "      <td>1.3625</td>\n",
       "      <td>1.3330</td>\n",
       "    </tr>\n",
       "    <tr>\n",
       "      <th>14</th>\n",
       "      <td>24.0</td>\n",
       "      <td>1.3370</td>\n",
       "      <td>1.3625</td>\n",
       "      <td>1.3325</td>\n",
       "    </tr>\n",
       "    <tr>\n",
       "      <th>15</th>\n",
       "      <td>24.5</td>\n",
       "      <td>1.3375</td>\n",
       "      <td>1.3625</td>\n",
       "      <td>1.3325</td>\n",
       "    </tr>\n",
       "    <tr>\n",
       "      <th>16</th>\n",
       "      <td>25.0</td>\n",
       "      <td>1.3370</td>\n",
       "      <td>1.3625</td>\n",
       "      <td>1.3325</td>\n",
       "    </tr>\n",
       "    <tr>\n",
       "      <th>17</th>\n",
       "      <td>25.5</td>\n",
       "      <td>1.3365</td>\n",
       "      <td>1.3620</td>\n",
       "      <td>1.3325</td>\n",
       "    </tr>\n",
       "    <tr>\n",
       "      <th>18</th>\n",
       "      <td>26.0</td>\n",
       "      <td>1.3370</td>\n",
       "      <td>1.3615</td>\n",
       "      <td>1.3325</td>\n",
       "    </tr>\n",
       "    <tr>\n",
       "      <th>19</th>\n",
       "      <td>26.5</td>\n",
       "      <td>1.3365</td>\n",
       "      <td>1.3615</td>\n",
       "      <td>1.3325</td>\n",
       "    </tr>\n",
       "    <tr>\n",
       "      <th>20</th>\n",
       "      <td>27.0</td>\n",
       "      <td>1.3365</td>\n",
       "      <td>1.3615</td>\n",
       "      <td>1.3325</td>\n",
       "    </tr>\n",
       "  </tbody>\n",
       "</table>\n",
       "</div>"
      ],
      "text/plain": [
       "    Temperatura  Vinagre  Alcohol    Agua\n",
       "0          17.0   1.3375   1.3665  1.3345\n",
       "1          17.5   1.3375   1.3660  1.3340\n",
       "2          18.0   1.3375   1.3670  1.3345\n",
       "3          18.5   1.3375   1.3650  1.3335\n",
       "4          19.0   1.3370   1.3655  1.3335\n",
       "5          19.5   1.3375   1.3645  1.3330\n",
       "6          20.0   1.3375   1.3645  1.3330\n",
       "7          20.5   1.3375   1.3640  1.3330\n",
       "8          21.0   1.3375   1.3640  1.3330\n",
       "9          21.5   1.3370   1.3635  1.3330\n",
       "10         22.0   1.3370   1.3635  1.3330\n",
       "11         22.5   1.3370   1.3635  1.3330\n",
       "12         23.0   1.3370   1.3630  1.3330\n",
       "13         23.5   1.3370   1.3625  1.3330\n",
       "14         24.0   1.3370   1.3625  1.3325\n",
       "15         24.5   1.3375   1.3625  1.3325\n",
       "16         25.0   1.3370   1.3625  1.3325\n",
       "17         25.5   1.3365   1.3620  1.3325\n",
       "18         26.0   1.3370   1.3615  1.3325\n",
       "19         26.5   1.3365   1.3615  1.3325\n",
       "20         27.0   1.3365   1.3615  1.3325"
      ]
     },
     "execution_count": 2,
     "metadata": {},
     "output_type": "execute_result"
    }
   ],
   "source": [
    "tabla_indices = pd.read_excel('Indices_Refraccion copy.xlsx')\n",
    "tabla_indices"
   ]
  },
  {
   "cell_type": "code",
   "execution_count": 3,
   "id": "b117e142-2783-42cb-8a7a-ba54ef7ca3e4",
   "metadata": {},
   "outputs": [
    {
     "name": "stdout",
     "output_type": "stream",
     "text": [
      "Vinagre: 0.075%\n",
      "Alcohol: 0.403%\n",
      "Agua: 0.150%\n"
     ]
    }
   ],
   "source": [
    "for material in tabla_indices.keys()[1:]:\n",
    "\tvar_relativa = (\n",
    "\t\ttabla_indices[material].max() - tabla_indices[material].min()\n",
    "\t)/tabla_indices[material].mean()\n",
    "\tprint('{}: {:.3%}'.format(material, var_relativa))"
   ]
  },
  {
   "cell_type": "code",
   "execution_count": 4,
   "id": "2c1617d9-b6cd-42d3-bcf3-13a895cea974",
   "metadata": {},
   "outputs": [],
   "source": [
    "temperaturas = tabla_indices['Temperatura'].to_numpy()\n",
    "\n",
    "regresiones = {\n",
    "\tmaterial : sp.stats.linregress(temperaturas, tabla_indices[material])\n",
    "\tfor material in tabla_indices.iloc[:, 1:]\n",
    "}\n",
    "\n",
    "regresiones_ecuaciones = {}\n",
    "for material in regresiones.keys():\n",
    "\tregresion = lambda T: T*(regresiones[material].slope) + regresiones[material].intercept\n",
    "\tregresiones_ecuaciones[material] = regresion"
   ]
  },
  {
   "cell_type": "code",
   "execution_count": 5,
   "id": "35206b26-d44b-4423-b79b-3d724643926e",
   "metadata": {},
   "outputs": [
    {
     "data": {
      "text/plain": [
       "(np.float64(-0.00017402597402597044), np.float64(1.3368999999999998))"
      ]
     },
     "execution_count": 5,
     "metadata": {},
     "output_type": "execute_result"
    }
   ],
   "source": [
    "regresiones['Agua'].slope, regresiones['Agua'].intercept"
   ]
  },
  {
   "cell_type": "code",
   "execution_count": 6,
   "id": "bbf0ab83-7de1-4836-ab1a-e7b8067a33f4",
   "metadata": {},
   "outputs": [
    {
     "data": {
      "text/plain": [
       "(np.float64(2.226410180345853e-05), np.float64(0.0004944268378554759))"
      ]
     },
     "execution_count": 6,
     "metadata": {},
     "output_type": "execute_result"
    }
   ],
   "source": [
    "regresiones['Agua'].stderr, regresiones['Agua'].intercept_stderr"
   ]
  },
  {
   "cell_type": "code",
   "execution_count": 7,
   "id": "aff162e3-2d23-4968-a6a7-9e18020847ba",
   "metadata": {},
   "outputs": [
    {
     "data": {
      "text/html": [
       "<div>\n",
       "<style scoped>\n",
       "    .dataframe tbody tr th:only-of-type {\n",
       "        vertical-align: middle;\n",
       "    }\n",
       "\n",
       "    .dataframe tbody tr th {\n",
       "        vertical-align: top;\n",
       "    }\n",
       "\n",
       "    .dataframe thead th {\n",
       "        text-align: right;\n",
       "    }\n",
       "</style>\n",
       "<table border=\"1\" class=\"dataframe\">\n",
       "  <thead>\n",
       "    <tr style=\"text-align: right;\">\n",
       "      <th></th>\n",
       "      <th>slope</th>\n",
       "      <th>intercept</th>\n",
       "      <th>rvalue</th>\n",
       "      <th>pvalue</th>\n",
       "      <th>stderr</th>\n",
       "    </tr>\n",
       "  </thead>\n",
       "  <tbody>\n",
       "    <tr>\n",
       "      <th>Vinagre</th>\n",
       "      <td>-0.000090</td>\n",
       "      <td>1.339114</td>\n",
       "      <td>-0.775330</td>\n",
       "      <td>3.650390e-05</td>\n",
       "      <td>0.000017</td>\n",
       "    </tr>\n",
       "    <tr>\n",
       "      <th>Alcohol</th>\n",
       "      <td>-0.000514</td>\n",
       "      <td>1.374981</td>\n",
       "      <td>-0.969513</td>\n",
       "      <td>4.617893e-13</td>\n",
       "      <td>0.000030</td>\n",
       "    </tr>\n",
       "    <tr>\n",
       "      <th>Agua</th>\n",
       "      <td>-0.000174</td>\n",
       "      <td>1.336900</td>\n",
       "      <td>-0.873377</td>\n",
       "      <td>2.361783e-07</td>\n",
       "      <td>0.000022</td>\n",
       "    </tr>\n",
       "  </tbody>\n",
       "</table>\n",
       "</div>"
      ],
      "text/plain": [
       "            slope  intercept    rvalue        pvalue    stderr\n",
       "Vinagre -0.000090   1.339114 -0.775330  3.650390e-05  0.000017\n",
       "Alcohol -0.000514   1.374981 -0.969513  4.617893e-13  0.000030\n",
       "Agua    -0.000174   1.336900 -0.873377  2.361783e-07  0.000022"
      ]
     },
     "execution_count": 7,
     "metadata": {},
     "output_type": "execute_result"
    }
   ],
   "source": [
    "regresiones_table = pd.DataFrame.from_dict(regresiones, orient='index')\n",
    "regresiones_table"
   ]
  },
  {
   "cell_type": "code",
   "execution_count": 8,
   "id": "9325399b-62e1-42a0-8a42-262c68a2f02d",
   "metadata": {},
   "outputs": [
    {
     "data": {
      "text/plain": [
       "<matplotlib.legend.Legend at 0x11740aa80>"
      ]
     },
     "execution_count": 8,
     "metadata": {},
     "output_type": "execute_result"
    },
    {
     "data": {
      "image/png": "[encoded data removed]",
      "text/plain": [
       "<Figure size 640x480 with 1 Axes>"
      ]
     },
     "metadata": {},
     "output_type": "display_data"
    }
   ],
   "source": [
    "fig1, ax1 = plt.subplots()\n",
    "ax1.set(\n",
    "\txlabel='Temperatura [°C]', ylabel='Indice de Refraccion $n$'\n",
    ")\n",
    "\n",
    "plots = {}\n",
    "for material in regresiones.keys():\n",
    "\tplots[material] = (\n",
    "\t\tax1.scatter(temperaturas, tabla_indices[material]),\n",
    "\t\tax1.plot(temperaturas,regresiones_ecuaciones[material](temperaturas))[0]\n",
    "\t\t# `plot` returns a list, but we want the handle - thus the comma on the left\n",
    "\t)\n",
    "\n",
    "\n",
    "ax1.legend(\n",
    "\tplots.values(), plots.keys(), handler_map={tuple: HandlerTuple(ndivide=None)},\n",
    "\tshadow=True, fancybox=True\n",
    ")\n",
    "#plt.savefig('Indices_de_refracción.pdf', dpi=300)"
   ]
  },
  {
   "cell_type": "code",
   "execution_count": 9,
   "id": "78fc9d56-64eb-4119-8dd6-c8ad34d6fdbe",
   "metadata": {},
   "outputs": [
    {
     "data": {
      "image/png": "[encoded data removed]",
      "text/plain": [
       "<Figure size 1000x400 with 3 Axes>"
      ]
     },
     "metadata": {},
     "output_type": "display_data"
    }
   ],
   "source": [
    "fig2, ax2 = plt.subplots(1, len(regresiones.keys()), layout='constrained', figsize=(10,4))\n",
    "colors=['blue', 'orange', 'green']\n",
    "\n",
    "ax2[0].set(ylabel='Indice de Refracción')\n",
    "for index, material in enumerate(regresiones.keys()):\n",
    "\tax2[index].set(title=material ,xlabel='Temperatura [°C]')#, ylabel='Indice de Refraccion $n$')\n",
    "\n",
    "\tpoints = ax2[index].scatter(temperaturas, tabla_indices[material], c=colors[index]),\n",
    "\t#lines = ax2[index].plot(temperaturas,regresiones_ecuaciones[material](temperaturas))[0]\n",
    "\n",
    "\t#ax2[index].legend(\n",
    "\t#\t[(points, lines)], [material], handler_map={tuple: HandlerTuple(ndivide=None)},\n",
    "\t#\tshadow=True, fancybox=True\n",
    "\t#)\n",
    "\n",
    "#plt.savefig('Graficas_indice.pdf', dpi=300)"
   ]
  }
 ],
 "metadata": {
  "kernelspec": {
   "display_name": "Python 3 (ipykernel)",
   "language": "python",
   "name": "python3"
  },
  "language_info": {
   "codemirror_mode": {
    "name": "ipython",
    "version": 3
   },
   "file_extension": ".py",
   "mimetype": "text/x-python",
   "name": "python",
   "nbconvert_exporter": "python",
   "pygments_lexer": "ipython3",
   "version": "3.12.4"
  }
 },
 "nbformat": 4,
 "nbformat_minor": 5
}
